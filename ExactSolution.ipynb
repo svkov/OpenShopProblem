{
 "cells": [
  {
   "cell_type": "markdown",
   "metadata": {},
   "source": [
    "# Open Shop Problem\n",
    "\n",
    "## Точные методы\n",
    "\n",
    "## Случай 2 машины, N работ\n",
    "\n",
    "Пример:\n",
    "\n",
    "A = np.array([5, 5, 7, 1, 2])\n",
    "\n",
    "B = np.array([7, 5, 3, 2, 1])\n",
    "\n",
    "\n",
    "Решение:\n",
    "\n",
    "A: [0, 5, 6, 13, 15, 20] 20\n",
    "\n",
    "B: [0, 7, 12, 14, 17, 18] 18\n"
   ]
  },
  {
   "cell_type": "code",
   "execution_count": 20,
   "metadata": {},
   "outputs": [],
   "source": [
    "import numpy as np\n",
    "\n",
    "def flatten(S):\n",
    "    if S == []:\n",
    "        return S\n",
    "    if isinstance(S[0], list):\n",
    "        return flatten(S[0]) + flatten(S[1:])\n",
    "    return S[:1] + flatten(S[1:])\n",
    "\n",
    "    \n",
    "\n",
    "A = np.array([5, 1, 2])\n",
    "B = np.array([5, 2, 1])\n",
    "\n",
    "I = []\n",
    "J = []\n",
    "\n",
    "for i in range(len(A)):\n",
    "    if A[i] <= B[i]:\n",
    "        I.append(i)\n",
    "    else:\n",
    "        J.append(i)\n",
    "        \n",
    "if np.max(A[I]) >= np.max(B[J]):\n",
    "    r = np.argmax(A[I])\n",
    "    a_r = A[r]\n",
    "    \n",
    "    I.remove(r)\n",
    "    \n",
    "    b_sch = [r, I, J]\n",
    "    a_sch = [I, J, r]\n",
    "else:\n",
    "    r = np.argmax(B[J])\n",
    "    b_r = B[r]\n",
    "    \n",
    "    J.remove(r)\n",
    "    \n",
    "    a_sch = [r, J, I]\n",
    "    b_sch = [J, I, r]"
   ]
  },
  {
   "cell_type": "code",
   "execution_count": 21,
   "metadata": {},
   "outputs": [
    {
     "name": "stdout",
     "output_type": "stream",
     "text": [
      "A: [0, 1, 3, 8] 8\n",
      "B: [0, 5, 7, 8] 8\n"
     ]
    }
   ],
   "source": [
    "a_sch = flatten(a_sch)\n",
    "b_sch = flatten(b_sch)\n",
    "t_a = [0]\n",
    "c_a = 0\n",
    "for i in a_sch:\n",
    "    c_a += A[i]\n",
    "    t_a.append(c_a)\n",
    "t_b = [0]\n",
    "c_b = 0\n",
    "for i in b_sch:\n",
    "    c_b += B[i]\n",
    "    t_b.append(c_b)\n",
    "    \n",
    "print('A:', t_a, c_a)\n",
    "print('B:', t_b, c_b)"
   ]
  }
 ],
 "metadata": {
  "kernelspec": {
   "display_name": "Python 3",
   "language": "python",
   "name": "python3"
  },
  "language_info": {
   "codemirror_mode": {
    "name": "ipython",
    "version": 3
   },
   "file_extension": ".py",
   "mimetype": "text/x-python",
   "name": "python",
   "nbconvert_exporter": "python",
   "pygments_lexer": "ipython3",
   "version": "3.7.4"
  }
 },
 "nbformat": 4,
 "nbformat_minor": 2
}
